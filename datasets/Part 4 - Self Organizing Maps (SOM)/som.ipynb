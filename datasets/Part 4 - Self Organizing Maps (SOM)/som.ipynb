{
  "cells": [
    {
      "cell_type": "markdown",
      "metadata": {
        "colab_type": "text",
        "id": "uab9OAbV8hYN"
      },
      "source": [
        "# Instalar dependendias"
      ]
    },
    {
      "cell_type": "code",
      "execution_count": 1,
      "metadata": {
        "colab": {
          "base_uri": "https://localhost:8080/",
          "height": 122
        },
        "colab_type": "code",
        "id": "qukjDgj98kE4",
        "outputId": "3d7cad17-e607-4d67-8edd-69b8a947a485"
      },
      "outputs": [
        {
          "name": "stdout",
          "output_type": "stream",
          "text": [
            "Requirement already satisfied: sklearn in c:\\users\\aag\\anaconda3\\lib\\site-packages (0.0)\n",
            "Requirement already satisfied: scikit-learn in c:\\users\\aag\\appdata\\roaming\\python\\python39\\site-packages (from sklearn) (1.1.2)\n",
            "Requirement already satisfied: numpy>=1.17.3 in c:\\users\\aag\\appdata\\roaming\\python\\python39\\site-packages (from scikit-learn->sklearn) (1.23.2)\n",
            "Requirement already satisfied: threadpoolctl>=2.0.0 in c:\\users\\aag\\appdata\\roaming\\python\\python39\\site-packages (from scikit-learn->sklearn) (3.1.0)\n",
            "Requirement already satisfied: scipy>=1.3.2 in c:\\users\\aag\\appdata\\roaming\\python\\python39\\site-packages (from scikit-learn->sklearn) (1.9.1)\n",
            "Requirement already satisfied: joblib>=1.0.0 in c:\\users\\aag\\appdata\\roaming\\python\\python39\\site-packages (from scikit-learn->sklearn) (1.1.0)\n"
          ]
        }
      ],
      "source": [
        "!pip install sklearn"
      ]
    },
    {
      "cell_type": "markdown",
      "metadata": {
        "colab_type": "text",
        "id": "4_lCXxqObOEc"
      },
      "source": [
        "# Instalar Theano"
      ]
    },
    {
      "cell_type": "code",
      "execution_count": 2,
      "metadata": {
        "colab": {
          "base_uri": "https://localhost:8080/",
          "height": 258
        },
        "colab_type": "code",
        "id": "ZuKBi9yzbOEd",
        "outputId": "7f7df967-68eb-4cdb-8c3a-53194935d414"
      },
      "outputs": [
        {
          "name": "stdout",
          "output_type": "stream",
          "text": [
            "Requirement already satisfied: theano in c:\\users\\aag\\anaconda3\\lib\\site-packages (1.0.5)\n"
          ]
        }
      ],
      "source": [
        "!pip install --upgrade --no-deps theano"
      ]
    },
    {
      "cell_type": "markdown",
      "metadata": {
        "colab_type": "text",
        "id": "JQVWgYPgbOEg"
      },
      "source": [
        "# Instalar Tensorflow y Keras\n"
      ]
    },
    {
      "cell_type": "code",
      "execution_count": 3,
      "metadata": {
        "colab": {
          "base_uri": "https://localhost:8080/",
          "height": 768
        },
        "colab_type": "code",
        "id": "lQlELtH5bOEg",
        "outputId": "7ffe5518-7c9e-4ceb-9611-3694ea15cbc8"
      },
      "outputs": [
        {
          "name": "stdout",
          "output_type": "stream",
          "text": [
            "Requirement already satisfied: keras in c:\\users\\aag\\anaconda3\\lib\\site-packages (2.9.0)\n",
            "Requirement already satisfied: tensorflow in c:\\users\\aag\\anaconda3\\lib\\site-packages (2.9.1)\n",
            "Requirement already satisfied: tensorboard<2.10,>=2.9 in c:\\users\\aag\\anaconda3\\lib\\site-packages (from tensorflow) (2.9.1)\n",
            "Requirement already satisfied: wrapt>=1.11.0 in c:\\users\\aag\\anaconda3\\lib\\site-packages (from tensorflow) (1.12.1)\n",
            "Requirement already satisfied: gast<=0.4.0,>=0.2.1 in c:\\users\\aag\\anaconda3\\lib\\site-packages (from tensorflow) (0.4.0)\n",
            "Requirement already satisfied: six>=1.12.0 in c:\\users\\aag\\appdata\\roaming\\python\\python39\\site-packages (from tensorflow) (1.16.0)\n",
            "Requirement already satisfied: absl-py>=1.0.0 in c:\\users\\aag\\appdata\\roaming\\python\\python39\\site-packages (from tensorflow) (1.2.0)\n",
            "Requirement already satisfied: grpcio<2.0,>=1.24.3 in c:\\users\\aag\\appdata\\roaming\\python\\python39\\site-packages (from tensorflow) (1.47.0)\n",
            "Requirement already satisfied: numpy>=1.20 in c:\\users\\aag\\appdata\\roaming\\python\\python39\\site-packages (from tensorflow) (1.23.2)\n",
            "Requirement already satisfied: setuptools in c:\\users\\aag\\appdata\\roaming\\python\\python39\\site-packages (from tensorflow) (65.3.0)\n",
            "Requirement already satisfied: tensorflow-estimator<2.10.0,>=2.9.0rc0 in c:\\users\\aag\\anaconda3\\lib\\site-packages (from tensorflow) (2.9.0)\n",
            "Requirement already satisfied: opt-einsum>=2.3.2 in c:\\users\\aag\\anaconda3\\lib\\site-packages (from tensorflow) (3.3.0)\n",
            "Requirement already satisfied: flatbuffers<2,>=1.12 in c:\\users\\aag\\anaconda3\\lib\\site-packages (from tensorflow) (1.12)\n",
            "Requirement already satisfied: packaging in c:\\users\\aag\\appdata\\roaming\\python\\python39\\site-packages (from tensorflow) (21.3)\n",
            "Requirement already satisfied: tensorflow-io-gcs-filesystem>=0.23.1 in c:\\users\\aag\\anaconda3\\lib\\site-packages (from tensorflow) (0.26.0)\n",
            "Requirement already satisfied: keras<2.10.0,>=2.9.0rc0 in c:\\users\\aag\\anaconda3\\lib\\site-packages (from tensorflow) (2.9.0)\n",
            "Requirement already satisfied: google-pasta>=0.1.1 in c:\\users\\aag\\anaconda3\\lib\\site-packages (from tensorflow) (0.2.0)\n",
            "Requirement already satisfied: termcolor>=1.1.0 in c:\\users\\aag\\anaconda3\\lib\\site-packages (from tensorflow) (1.1.0)\n",
            "Requirement already satisfied: keras-preprocessing>=1.1.1 in c:\\users\\aag\\anaconda3\\lib\\site-packages (from tensorflow) (1.1.2)\n",
            "Requirement already satisfied: h5py>=2.9.0 in c:\\users\\aag\\anaconda3\\lib\\site-packages (from tensorflow) (3.6.0)\n",
            "Requirement already satisfied: protobuf<3.20,>=3.9.2 in c:\\users\\aag\\appdata\\roaming\\python\\python39\\site-packages (from tensorflow) (3.19.4)\n",
            "Requirement already satisfied: libclang>=13.0.0 in c:\\users\\aag\\anaconda3\\lib\\site-packages (from tensorflow) (14.0.6)\n",
            "Requirement already satisfied: astunparse>=1.6.0 in c:\\users\\aag\\anaconda3\\lib\\site-packages (from tensorflow) (1.6.3)\n",
            "Requirement already satisfied: typing-extensions>=3.6.6 in c:\\users\\aag\\appdata\\roaming\\python\\python39\\site-packages (from tensorflow) (4.3.0)\n",
            "Requirement already satisfied: wheel<1.0,>=0.23.0 in c:\\users\\aag\\appdata\\roaming\\python\\python39\\site-packages (from astunparse>=1.6.0->tensorflow) (0.37.1)\n",
            "Requirement already satisfied: requests<3,>=2.21.0 in c:\\users\\aag\\appdata\\roaming\\python\\python39\\site-packages (from tensorboard<2.10,>=2.9->tensorflow) (2.28.1)\n",
            "Requirement already satisfied: tensorboard-data-server<0.7.0,>=0.6.0 in c:\\users\\aag\\appdata\\roaming\\python\\python39\\site-packages (from tensorboard<2.10,>=2.9->tensorflow) (0.6.1)\n",
            "Requirement already satisfied: werkzeug>=1.0.1 in c:\\users\\aag\\appdata\\roaming\\python\\python39\\site-packages (from tensorboard<2.10,>=2.9->tensorflow) (2.2.2)\n",
            "Requirement already satisfied: markdown>=2.6.8 in c:\\users\\aag\\appdata\\roaming\\python\\python39\\site-packages (from tensorboard<2.10,>=2.9->tensorflow) (3.4.1)\n",
            "Requirement already satisfied: google-auth<3,>=1.6.3 in c:\\users\\aag\\appdata\\roaming\\python\\python39\\site-packages (from tensorboard<2.10,>=2.9->tensorflow) (2.11.0)\n",
            "Requirement already satisfied: tensorboard-plugin-wit>=1.6.0 in c:\\users\\aag\\appdata\\roaming\\python\\python39\\site-packages (from tensorboard<2.10,>=2.9->tensorflow) (1.8.1)\n",
            "Requirement already satisfied: google-auth-oauthlib<0.5,>=0.4.1 in c:\\users\\aag\\appdata\\roaming\\python\\python39\\site-packages (from tensorboard<2.10,>=2.9->tensorflow) (0.4.6)\n",
            "Requirement already satisfied: pyparsing!=3.0.5,>=2.0.2 in c:\\users\\aag\\appdata\\roaming\\python\\python39\\site-packages (from packaging->tensorflow) (3.0.9)\n",
            "Requirement already satisfied: pyasn1-modules>=0.2.1 in c:\\users\\aag\\appdata\\roaming\\python\\python39\\site-packages (from google-auth<3,>=1.6.3->tensorboard<2.10,>=2.9->tensorflow) (0.2.8)\n",
            "Requirement already satisfied: rsa<5,>=3.1.4 in c:\\users\\aag\\appdata\\roaming\\python\\python39\\site-packages (from google-auth<3,>=1.6.3->tensorboard<2.10,>=2.9->tensorflow) (4.9)\n",
            "Requirement already satisfied: cachetools<6.0,>=2.0.0 in c:\\users\\aag\\appdata\\roaming\\python\\python39\\site-packages (from google-auth<3,>=1.6.3->tensorboard<2.10,>=2.9->tensorflow) (5.2.0)\n",
            "Requirement already satisfied: requests-oauthlib>=0.7.0 in c:\\users\\aag\\appdata\\roaming\\python\\python39\\site-packages (from google-auth-oauthlib<0.5,>=0.4.1->tensorboard<2.10,>=2.9->tensorflow) (1.3.1)\n",
            "Requirement already satisfied: importlib-metadata>=4.4 in c:\\users\\aag\\appdata\\roaming\\python\\python39\\site-packages (from markdown>=2.6.8->tensorboard<2.10,>=2.9->tensorflow) (4.12.0)\n",
            "Requirement already satisfied: idna<4,>=2.5 in c:\\users\\aag\\appdata\\roaming\\python\\python39\\site-packages (from requests<3,>=2.21.0->tensorboard<2.10,>=2.9->tensorflow) (3.3)\n",
            "Requirement already satisfied: urllib3<1.27,>=1.21.1 in c:\\users\\aag\\appdata\\roaming\\python\\python39\\site-packages (from requests<3,>=2.21.0->tensorboard<2.10,>=2.9->tensorflow) (1.26.12)\n",
            "Requirement already satisfied: charset-normalizer<3,>=2 in c:\\users\\aag\\appdata\\roaming\\python\\python39\\site-packages (from requests<3,>=2.21.0->tensorboard<2.10,>=2.9->tensorflow) (2.1.1)\n",
            "Requirement already satisfied: certifi>=2017.4.17 in c:\\users\\aag\\appdata\\roaming\\python\\python39\\site-packages (from requests<3,>=2.21.0->tensorboard<2.10,>=2.9->tensorflow) (2022.6.15)\n",
            "Requirement already satisfied: MarkupSafe>=2.1.1 in c:\\users\\aag\\appdata\\roaming\\python\\python39\\site-packages (from werkzeug>=1.0.1->tensorboard<2.10,>=2.9->tensorflow) (2.1.1)\n",
            "Requirement already satisfied: zipp>=0.5 in c:\\users\\aag\\appdata\\roaming\\python\\python39\\site-packages (from importlib-metadata>=4.4->markdown>=2.6.8->tensorboard<2.10,>=2.9->tensorflow) (3.8.1)\n",
            "Requirement already satisfied: pyasn1<0.5.0,>=0.4.6 in c:\\users\\aag\\appdata\\roaming\\python\\python39\\site-packages (from pyasn1-modules>=0.2.1->google-auth<3,>=1.6.3->tensorboard<2.10,>=2.9->tensorflow) (0.4.8)\n",
            "Requirement already satisfied: oauthlib>=3.0.0 in c:\\users\\aag\\appdata\\roaming\\python\\python39\\site-packages (from requests-oauthlib>=0.7.0->google-auth-oauthlib<0.5,>=0.4.1->tensorboard<2.10,>=2.9->tensorflow) (3.2.0)\n"
          ]
        }
      ],
      "source": [
        "!pip install keras\n",
        "!pip install tensorflow"
      ]
    },
    {
      "cell_type": "markdown",
      "metadata": {
        "colab_type": "text",
        "id": "3yFpBwmNz70v"
      },
      "source": [
        "# SOM\n"
      ]
    },
    {
      "cell_type": "markdown",
      "metadata": {
        "colab_type": "text",
        "id": "v8OxSXXSz-OP"
      },
      "source": [
        "# Cómo importar las librerías\n"
      ]
    },
    {
      "cell_type": "code",
      "execution_count": 4,
      "metadata": {
        "colab": {},
        "colab_type": "code",
        "id": "edZX51YLzs59"
      },
      "outputs": [],
      "source": [
        "import numpy as np\n",
        "import matplotlib.pyplot as plt\n",
        "import pandas as pd"
      ]
    },
    {
      "cell_type": "markdown",
      "metadata": {
        "colab_type": "text",
        "id": "8XfXlqtF0B58"
      },
      "source": [
        "# Importar el data set\n"
      ]
    },
    {
      "cell_type": "code",
      "execution_count": 5,
      "metadata": {
        "colab": {},
        "colab_type": "code",
        "id": "-nnozsHsz_-N"
      },
      "outputs": [],
      "source": [
        "dataset = pd.read_csv('./Credit_Card_Applications.csv')\n",
        "# Nos quedamos con todas las columnas salvo la última, que es la clase (no la vamos a usar ya que usaremos un algoritmo no supervisado).\n",
        "X = dataset.iloc[:, :-1].values\n",
        "# Nos quedamos con la última columna. La usaremos solo para validar. \n",
        "y = dataset.iloc[:, -1].values"
      ]
    },
    {
      "cell_type": "markdown",
      "metadata": {
        "colab_type": "text",
        "id": "xtzD5VD4bOEn"
      },
      "source": [
        "# Escalado de características"
      ]
    },
    {
      "cell_type": "code",
      "execution_count": 6,
      "metadata": {
        "colab": {},
        "colab_type": "code",
        "id": "v9CtwK834bjy"
      },
      "outputs": [],
      "source": [
        "from sklearn.preprocessing import MinMaxScaler\n",
        "sc = MinMaxScaler(feature_range = (0, 1))\n",
        "X = sc.fit_transform(X)"
      ]
    },
    {
      "cell_type": "markdown",
      "metadata": {
        "colab_type": "text",
        "id": "5AH_uCEz68rb"
      },
      "source": [
        "# Entrenar el SOM"
      ]
    },
    {
      "cell_type": "code",
      "execution_count": 7,
      "metadata": {
        "colab": {},
        "colab_type": "code",
        "id": "oeuAy8LI69vi"
      },
      "outputs": [],
      "source": [
        "from minisom import MiniSom\n",
        "# x e y: son el tamaño de la cuadrícula en horizontal y vertical. Queremos que los outliers destaquen por lo tanto no lo queremos muy grande. No tenemos muchísimos datos\n",
        "#        por lo que no tiene sentido un mapa muy grande.\n",
        "# input_len: cuantas dimensiones tiene nuestro espacio vectorial de entrada. Tenemos 15 columnas: el id del cliente y 14 atributos. Realmente no necesitamos el id del cliente\n",
        "#            pero lo necesitaremos luego para saber de qué cliente se trata el outlier.\n",
        "# sigma: es el radio inicial que se utiliza para establecer los vecinos de cada nodo potencial. Se irá actualizando dentro del algoritmo.\n",
        "# learning_rate: capacidad de ir adaptando los valores de los pesos de una iteración a la siguiente. A mayor ratio de aprendizaje más rápida es la convergencia pero si es muy alto\n",
        "#                podemos \"pasarnos de frenada\".\n",
        "# decay_function: función que se puede utilizar para mejorar la convergencia.\n",
        "# random_seed: para la reproducibilidad.\n",
        "som = MiniSom(x = 10, y = 10, input_len = 15, sigma = 1.0, learning_rate = 0.5)\n",
        "# Inicializamos los pesos de forma aleatoria.\n",
        "som.random_weights_init(X)\n",
        "# Entrena el dataset.\n",
        "som.train_random(data = X, num_iteration = 100)"
      ]
    },
    {
      "cell_type": "markdown",
      "metadata": {
        "colab_type": "text",
        "id": "sfzLXHPwbOEt"
      },
      "source": [
        "# Visualizar los resultados\n"
      ]
    },
    {
      "cell_type": "code",
      "execution_count": 8,
      "metadata": {
        "colab": {
          "base_uri": "https://localhost:8080/",
          "height": 269
        },
        "colab_type": "code",
        "id": "8m2LCgz8bOEt",
        "outputId": "238680a3-e10e-4e6e-8968-81bf39885b34"
      },
      "outputs": [
        {
          "data": {
            "image/png": "[encoded data removed]",
            "text/plain": [
              "<Figure size 640x480 with 2 Axes>"
            ]
          },
          "metadata": {},
          "output_type": "display_data"
        }
      ],
      "source": [
        "# Librería con funciones para pintar\n",
        "from pylab import bone, pcolor, colorbar, plot, show\n",
        "# Cambiamos el color del mapa de color\n",
        "bone()\n",
        "# Hacemos un rango de colores a partir del mapa de distancias que el SOM ha calculado, en formato matricial. \n",
        "# La matriz nos viene girada en cuanto a como la queremos.\n",
        "pcolor(som.distance_map().T)\n",
        "# Sacamos una barra de color: los valores más claros son los correspondientes a los MIDs más altos (aquellos con vecinos más alejados). Los valores más compactos son \n",
        "# los cuadrados con los valores más oscuros. Los blancos serán valores atípicos potenciales.\n",
        "colorbar()\n",
        "# Cuadrados verdes y círculos rojos para clientes que han obtenido aprobación o no.\n",
        "markers = ['o', 's']\n",
        "colors = ['r', 'g']\n",
        "# Recorremos las observaciones:\n",
        "for i, x in enumerate(X):\n",
        "    # Obtenemos el nodo ganador para la observación.\n",
        "    w = som.winner(x)\n",
        "    # Pintamos el cuadrado o el círculo en las coordenadas del nodo ganador. Nos devuelven las coordenadas de la esquina inferior izquierda del cuadrado.\n",
        "    # Como el marcador lo queremos ubicar en el medio y cada cuadrado es de tamaño 1x1 (recordemos que la cuadrícula completa es de 10x10) le sumamos 0.5 a las coordenadas.\n",
        "    # En y tenemos un 1 si obtuvo aprobación y 0 si no. Sacamos de los marcadores y color el marcador y color correspondiente, por eso se ordenador así: en la 0 círculo rojo, en la 1 cuadrado verde.\n",
        "    plot(w[0]+0.5, w[1]+0.5,\n",
        "         markers[y[i]], markeredgecolor = colors[y[i]], markerfacecolor = 'None', \n",
        "         markersize = 10, markeredgewidth = 2)\n",
        "show()\n",
        "\n",
        "# En teoría debe de haber más círculos rojos cerca de los colores blancos y más cuadrados verdes cerca de los colores oscuros."
      ]
    },
    {
      "cell_type": "markdown",
      "metadata": {
        "colab_type": "text",
        "id": "cgweTaJ67BOB"
      },
      "source": [
        "# Encontrar los fraudes"
      ]
    },
    {
      "cell_type": "code",
      "execution_count": 79,
      "metadata": {
        "colab": {},
        "colab_type": "code",
        "id": "Qla5Fhhef10Z"
      },
      "outputs": [],
      "source": [
        "def find_frauds(som, X):\n",
        "  # minisom ofrece un diccionario con todas las asignaciones diferentes de cada nodo ganador y los clientes asignados a él\n",
        "  mappings = som.win_map(X)\n",
        "  # Vamos a obtener los datos de clientes que están en el cuadrado blanco (máxima distancia media entre neuronas)\n",
        "  # Vamos a encontrar los 2 máximos de la matriz de distancias\n",
        "  # Por como recorreremos la matriz aquí no la transponemos\n",
        "  distances = som.distance_map()\n",
        "  maxTuples = np.array([(np.NaN, np.NaN, -np.Infinity), (np.NaN, np.NaN, -np.Infinity)])\n",
        "  for i in range(distances.shape[0]):\n",
        "    for j in range(distances.shape[1]):\n",
        "      distance = distances[i][j]\n",
        "      # Obtenemos el mínimo de los máximos encontrados hasta ahora y su índice\n",
        "      k = np.argmin(maxTuples[:, 2])\n",
        "      minMaxDistance = maxTuples[k]\n",
        "      # Si la distancia es mayor al mínimo encontrado entonces sustituiremos ese mínimo con la nueva distancia\n",
        "      if (distance > minMaxDistance[2]):\n",
        "        maxTuples[k] = [i, j, distance]\n",
        "\n",
        "  # Construimos un objeto de índice con las coordenadas de los máximos obtenidos anteriormente. Convertiremos a tupla esas coordenadas\n",
        "  mappings_i = map(tuple, maxTuples[:, :-1])\n",
        "  # Traemos los valores del diccionario de mappings a una lista\n",
        "  mappings_list = [mappings.get(key) for key in mappings_i if mappings.get(key) != None]\n",
        "  # Los concatenamos con numpy, en el eje 0 (ampliamos el array, los juntamos por fila)\n",
        "  frauds = np.concatenate(mappings_list, axis = 0)\n",
        "  return frauds\n",
        "\n",
        "\n",
        "frauds = find_frauds(som, X)\n",
        "# Aplicamos la desnormalización\n",
        "frauds = sc.inverse_transform(frauds)\n",
        "\n",
        "\n",
        "# # Esta es la forma del ejemplo\n",
        "# mappings = som.win_map(X)\n",
        "# # Esta línea se corresponde al ejemplo del curso...pero nuestro nodo blanco está en otro sitio. En el ejemplo concatena dos cuadrados\n",
        "# # Ojo que estas coordenadas cambiarán por ejecución...no tiene mucho sentido este método.\n",
        "# # Los concatenamos con numpy, en el eje 0 (ampliamos el array, los juntamos por fila)\n",
        "# # Aplicamos la desnormalización\n",
        "# frauds = np.concatenate( (mappings[(6,1)], mappings[(7,8)]), axis = 0 )\n",
        "# frauds = sc.inverse_transform(frauds)"
      ]
    }
  ],
  "metadata": {
    "accelerator": "GPU",
    "colab": {
      "collapsed_sections": [],
      "name": "som.ipynb",
      "provenance": [],
      "toc_visible": true
    },
    "kernelspec": {
      "display_name": "Python 3.9.12 ('base')",
      "language": "python",
      "name": "python3"
    },
    "language_info": {
      "codemirror_mode": {
        "name": "ipython",
        "version": 3
      },
      "file_extension": ".py",
      "mimetype": "text/x-python",
      "name": "python",
      "nbconvert_exporter": "python",
      "pygments_lexer": "ipython3",
      "version": "3.9.12"
    },
    "vscode": {
      "interpreter": {
        "hash": "3cdeb3212b9cd6cb3adfc9aa28385dec25cb135a233d680843bd721e460bd758"
      }
    }
  },
  "nbformat": 4,
  "nbformat_minor": 0
}

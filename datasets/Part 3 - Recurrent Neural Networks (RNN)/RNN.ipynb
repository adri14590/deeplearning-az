{
  "cells": [
    {
      "cell_type": "code",
      "execution_count": 1,
      "metadata": {
        "colab": {
          "base_uri": "https://localhost:8080/",
          "height": 221
        },
        "colab_type": "code",
        "id": "rpVgSST_Y455",
        "outputId": "d11b5cbf-a03b-4b1c-a09e-938e4d56ab29"
      },
      "outputs": [
        {
          "name": "stdout",
          "output_type": "stream",
          "text": [
            "Requirement already satisfied: keras in c:\\users\\aag\\anaconda3\\lib\\site-packages (2.9.0)\n",
            "Note: you may need to restart the kernel to use updated packages.\n"
          ]
        }
      ],
      "source": [
        "pip install --upgrade keras"
      ]
    },
    {
      "cell_type": "markdown",
      "metadata": {
        "colab_type": "text",
        "id": "t15NNKt-lpv7"
      },
      "source": [
        "# Parte 1 - Preprocesado de los datos\n",
        "\n",
        "# Importación de las librerías"
      ]
    },
    {
      "cell_type": "code",
      "execution_count": 2,
      "metadata": {
        "colab": {},
        "colab_type": "code",
        "id": "7NCdTPCslrel"
      },
      "outputs": [],
      "source": [
        "import numpy as np\n",
        "import pandas as pd\n",
        "import matplotlib.pyplot as plt"
      ]
    },
    {
      "cell_type": "markdown",
      "metadata": {
        "colab_type": "text",
        "id": "7w97ATJzlwcx"
      },
      "source": [
        "# Importar el dataset de entrenamiento"
      ]
    },
    {
      "cell_type": "code",
      "execution_count": 6,
      "metadata": {
        "colab": {},
        "colab_type": "code",
        "id": "In-BOPsflu-s"
      },
      "outputs": [],
      "source": [
        "dataset_train = pd.read_csv(\"./Google_Stock_Price_Train.csv\")\n",
        "# Utilizamos el slice 1:2 en lugar de poner solo 1 para que no nos lo convierta a un vector.\n",
        "training_set  = dataset_train.iloc[:, 1:2].values"
      ]
    },
    {
      "cell_type": "markdown",
      "metadata": {
        "colab_type": "text",
        "id": "W5TcdlcrlyZq"
      },
      "source": [
        "# Escalado de características"
      ]
    },
    {
      "cell_type": "code",
      "execution_count": 7,
      "metadata": {
        "colab": {},
        "colab_type": "code",
        "id": "oB6YUNwDl0uE"
      },
      "outputs": [],
      "source": [
        "# En las redes neuronales recurrentes es recomendable utilizar la normalización en lugar de la estandarización. El proceso de convergencia es mejor.\n",
        "from sklearn.preprocessing import MinMaxScaler\n",
        "sc = MinMaxScaler(feature_range = (0, 1))\n",
        "training_set_scaled = sc.fit_transform(training_set)"
      ]
    },
    {
      "cell_type": "markdown",
      "metadata": {
        "colab_type": "text",
        "id": "bTnKn6ifl2He"
      },
      "source": [
        "# Crear una estructura de datos con 60 timesteps y 1 salida"
      ]
    },
    {
      "cell_type": "code",
      "execution_count": 23,
      "metadata": {
        "colab": {},
        "colab_type": "code",
        "id": "kk8UUw0_lz5S"
      },
      "outputs": [],
      "source": [
        "# Esta estructura es necesaria para entrenar la red neuronal recurrente.\n",
        "# 60 timesteps: en cada momento del tiempo la red será capaz de mirar 60 días atrás y en base a eso predecir el precio del día siguiente. Hay 20 días financieros por mes.\n",
        "# Estamos prediciendo en base al trimestre.\n",
        "# Desde el día el 1 hasta el 60 se utilizan para predecir el 61, del 2 al 61 se usan para predecir el 62 y así sucesivamente\n",
        "X_train = []\n",
        "y_train = []\n",
        "timesteps = 60\n",
        "for i in range(timesteps, training_set.shape[0]):\n",
        "    X_train.append(training_set_scaled[i-timesteps:i, 0])\n",
        "    y_train.append(training_set_scaled[i, 0])\n",
        "X_train, y_train = np.array(X_train), np.array(y_train)"
      ]
    },
    {
      "cell_type": "markdown",
      "metadata": {
        "colab_type": "text",
        "id": "ofUwrSJbl6cO"
      },
      "source": [
        "# Redimensión de los datos"
      ]
    },
    {
      "cell_type": "code",
      "execution_count": 79,
      "metadata": {
        "colab": {},
        "colab_type": "code",
        "id": "17RfTB75l7Bi"
      },
      "outputs": [],
      "source": [
        "# Agregamos una nueva dimensión para hacer más robusta la predicción. Podríamos tener otros datos de otras compañías, otros valores de acciones...Estos datos irían en la dimensión de profundidad.\n",
        "#   - Esta dimensión, llamada \"la unidad\" permite identificar la cantidad de variables predictoras que se van a utilizar.\n",
        "#   - Ahora solo tenemos un indicador, precio de la acción de Google a la apertura.\n",
        "#   - Con la nueva dimensión podríamos añadir más indicadores.\n",
        "#   - La red recurrente de keras espera un tensor 3D con la forma (batch_size, timesteps, input_dim).\n",
        "X_train = np.reshape(X_train, (X_train.shape[0], X_train.shape[1], 1))\n",
        "# Esto vendría a ser equivalente a lo de arriba, se puede poner -1 para que deje una dimensión como está pero solo se puede poner 1.\n",
        "# X_train = X_train.reshape(-1, -1, 1)"
      ]
    },
    {
      "cell_type": "markdown",
      "metadata": {
        "colab_type": "text",
        "id": "AtczsRskbj2F"
      },
      "source": [
        "# Parte 2 - Construcción de la RNR"
      ]
    },
    {
      "cell_type": "code",
      "execution_count": 26,
      "metadata": {
        "colab": {},
        "colab_type": "code",
        "id": "Td6hF67QnL41"
      },
      "outputs": [],
      "source": [
        "from keras.models import Sequential\n",
        "from keras.layers import Dense, LSTM, Dropout"
      ]
    },
    {
      "cell_type": "code",
      "execution_count": 27,
      "metadata": {
        "colab": {},
        "colab_type": "code",
        "id": "rQL9sTJ9Y_Vc"
      },
      "outputs": [],
      "source": [
        "regressor = Sequential()"
      ]
    },
    {
      "cell_type": "markdown",
      "metadata": {
        "colab_type": "text",
        "id": "tUbAgrrqbpsY"
      },
      "source": [
        "# Añadir la primera capa de LSTM y la regulariación por Dropout"
      ]
    },
    {
      "cell_type": "code",
      "execution_count": 28,
      "metadata": {
        "colab": {},
        "colab_type": "code",
        "id": "2kYdJsjsZCR8"
      },
      "outputs": [],
      "source": [
        "# - units: cuantas neuronas queremos en esta capa. Deberá ser un número alto, añadiremos una elevada dimensionalidad para que se capturen correlaciones a un nivel complejo.\n",
        "# - return_sequences: true si queremos un LSTM apilado (tener varias capas de LSTM, haciendo un modelo más robusto). La última capa de LSTM tendrá return_sequences a false\n",
        "# - input_shape: tamaño de la forma de entrada de los datos. La red no entrenará con todas las observaciones de golpe y se podrá hacer uno a uno, en bloques...\n",
        "#                Lo que la red debe saber son los timesteps y el número de features o variables predictores.\n",
        "regressor.add(LSTM(units = 50, return_sequences = True, input_shape = (X_train.shape[1], X_train.shape[2]) ))\n",
        "# Para el dropout en LSTM utilizamos un valor algo más alto.\n",
        "regressor.add(Dropout(0.2))"
      ]
    },
    {
      "cell_type": "markdown",
      "metadata": {
        "colab_type": "text",
        "id": "rBFya76KbsKw"
      },
      "source": [
        "# Añadir la segunda capa de LSTM y la regulariación por Dropout"
      ]
    },
    {
      "cell_type": "code",
      "execution_count": 29,
      "metadata": {
        "colab": {},
        "colab_type": "code",
        "id": "jty3bSFYZD98"
      },
      "outputs": [],
      "source": [
        "regressor.add(LSTM(units = 50, return_sequences = True ))\n",
        "regressor.add(Dropout(0.2))"
      ]
    },
    {
      "cell_type": "markdown",
      "metadata": {
        "colab_type": "text",
        "id": "IgJ4s9fSb8bm"
      },
      "source": [
        "# Añadir la tercera capa de LSTM y la regulariación por Dropout"
      ]
    },
    {
      "cell_type": "code",
      "execution_count": 30,
      "metadata": {
        "colab": {},
        "colab_type": "code",
        "id": "mkVuO25YZHtg"
      },
      "outputs": [],
      "source": [
        "regressor.add(LSTM(units = 50, return_sequences = True ))\n",
        "regressor.add(Dropout(0.2))"
      ]
    },
    {
      "cell_type": "markdown",
      "metadata": {
        "colab_type": "text",
        "id": "D8PFVngxmTaT"
      },
      "source": [
        "# Añadir la cuarta capa de LSTM y la regulariación por Dropout\n"
      ]
    },
    {
      "cell_type": "code",
      "execution_count": 31,
      "metadata": {
        "colab": {},
        "colab_type": "code",
        "id": "JWl9_DHxZJZD"
      },
      "outputs": [],
      "source": [
        "# Aquí no hace falta el return _sequences ya que es la última.\n",
        "regressor.add(LSTM(units = 50))\n",
        "regressor.add(Dropout(0.2))"
      ]
    },
    {
      "cell_type": "markdown",
      "metadata": {
        "colab_type": "text",
        "id": "iliYQ6aFmYov"
      },
      "source": [
        "# Añadir la capa de salida"
      ]
    },
    {
      "cell_type": "code",
      "execution_count": 32,
      "metadata": {
        "colab": {},
        "colab_type": "code",
        "id": "KQnTQSjyZKXs"
      },
      "outputs": [],
      "source": [
        "regressor.add(Dense(units = 1))"
      ]
    },
    {
      "cell_type": "markdown",
      "metadata": {
        "colab_type": "text",
        "id": "p7INHvHmcFdL"
      },
      "source": [
        "# Compilar la RNR\n",
        "# Como va a ser entrenada?"
      ]
    },
    {
      "cell_type": "code",
      "execution_count": 33,
      "metadata": {
        "colab": {},
        "colab_type": "code",
        "id": "Uc7pBop7ZLeN"
      },
      "outputs": [],
      "source": [
        "# En cuanto al optimizador la documentación de Keras se indica que para clasificaciones se suele utilizar RMSprop, también para RNR.\n",
        "# Sin embargo tras las pruebas se observa que da mejores resultados el optimizador de adam, así que se utilizará ese.\n",
        "# Utilizamos otra función de costes debido a que estamos en otro problema distinto, estamos haciendo regresión en lugar de clasificación.\n",
        "# Vamos a minimizar el error entre el valor de la predicción y el valor del dato.\n",
        "regressor.compile(optimizer = 'adam', loss = 'mean_squared_error')"
      ]
    },
    {
      "cell_type": "markdown",
      "metadata": {
        "colab_type": "text",
        "id": "hits0FnccMjr"
      },
      "source": [
        "# Ajustar la RNR al conjunto de entrenamiento"
      ]
    },
    {
      "cell_type": "code",
      "execution_count": 34,
      "metadata": {
        "colab": {
          "base_uri": "https://localhost:8080/",
          "height": 1000
        },
        "colab_type": "code",
        "id": "BYgCwVDFZMrU",
        "outputId": "2a9b3579-508f-4d47-ec4d-dddac468bf3c"
      },
      "outputs": [
        {
          "name": "stdout",
          "output_type": "stream",
          "text": [
            "Epoch 1/100\n",
            "38/38 [==============================] - 11s 68ms/step - loss: 0.0493\n",
            "Epoch 2/100\n",
            "38/38 [==============================] - 2s 63ms/step - loss: 0.0069\n",
            "Epoch 3/100\n",
            "38/38 [==============================] - 2s 63ms/step - loss: 0.0068\n",
            "Epoch 4/100\n",
            "38/38 [==============================] - 2s 64ms/step - loss: 0.0061\n",
            "Epoch 5/100\n",
            "38/38 [==============================] - 2s 62ms/step - loss: 0.0051\n",
            "Epoch 6/100\n",
            "38/38 [==============================] - 2s 63ms/step - loss: 0.0048\n",
            "Epoch 7/100\n",
            "38/38 [==============================] - 2s 62ms/step - loss: 0.0049\n",
            "Epoch 8/100\n",
            "38/38 [==============================] - 2s 64ms/step - loss: 0.0052\n",
            "Epoch 9/100\n",
            "38/38 [==============================] - 2s 62ms/step - loss: 0.0045\n",
            "Epoch 10/100\n",
            "38/38 [==============================] - 3s 67ms/step - loss: 0.0045\n",
            "Epoch 11/100\n",
            "38/38 [==============================] - 2s 64ms/step - loss: 0.0044\n",
            "Epoch 12/100\n",
            "38/38 [==============================] - 2s 63ms/step - loss: 0.0042\n",
            "Epoch 13/100\n",
            "38/38 [==============================] - 2s 66ms/step - loss: 0.0044\n",
            "Epoch 14/100\n",
            "38/38 [==============================] - 2s 62ms/step - loss: 0.0038\n",
            "Epoch 15/100\n",
            "38/38 [==============================] - 2s 62ms/step - loss: 0.0049\n",
            "Epoch 16/100\n",
            "38/38 [==============================] - 2s 65ms/step - loss: 0.0038\n",
            "Epoch 17/100\n",
            "38/38 [==============================] - 2s 63ms/step - loss: 0.0043\n",
            "Epoch 18/100\n",
            "38/38 [==============================] - 2s 65ms/step - loss: 0.0038\n",
            "Epoch 19/100\n",
            "38/38 [==============================] - 2s 63ms/step - loss: 0.0036\n",
            "Epoch 20/100\n",
            "38/38 [==============================] - 2s 64ms/step - loss: 0.0035\n",
            "Epoch 21/100\n",
            "38/38 [==============================] - 2s 64ms/step - loss: 0.0034\n",
            "Epoch 22/100\n",
            "38/38 [==============================] - 2s 63ms/step - loss: 0.0035\n",
            "Epoch 23/100\n",
            "38/38 [==============================] - 3s 66ms/step - loss: 0.0033\n",
            "Epoch 24/100\n",
            "38/38 [==============================] - 2s 63ms/step - loss: 0.0035\n",
            "Epoch 25/100\n",
            "38/38 [==============================] - 2s 64ms/step - loss: 0.0031\n",
            "Epoch 26/100\n",
            "38/38 [==============================] - 2s 63ms/step - loss: 0.0033\n",
            "Epoch 27/100\n",
            "38/38 [==============================] - 2s 64ms/step - loss: 0.0031\n",
            "Epoch 28/100\n",
            "38/38 [==============================] - 2s 65ms/step - loss: 0.0041\n",
            "Epoch 29/100\n",
            "38/38 [==============================] - 2s 62ms/step - loss: 0.0028\n",
            "Epoch 30/100\n",
            "38/38 [==============================] - 3s 68ms/step - loss: 0.0028\n",
            "Epoch 31/100\n",
            "38/38 [==============================] - 2s 62ms/step - loss: 0.0034\n",
            "Epoch 32/100\n",
            "38/38 [==============================] - 2s 64ms/step - loss: 0.0027\n",
            "Epoch 33/100\n",
            "38/38 [==============================] - 2s 64ms/step - loss: 0.0030\n",
            "Epoch 34/100\n",
            "38/38 [==============================] - 3s 67ms/step - loss: 0.0027\n",
            "Epoch 35/100\n",
            "38/38 [==============================] - 2s 64ms/step - loss: 0.0028\n",
            "Epoch 36/100\n",
            "38/38 [==============================] - 2s 65ms/step - loss: 0.0032\n",
            "Epoch 37/100\n",
            "38/38 [==============================] - 2s 64ms/step - loss: 0.0030\n",
            "Epoch 38/100\n",
            "38/38 [==============================] - 2s 65ms/step - loss: 0.0028\n",
            "Epoch 39/100\n",
            "38/38 [==============================] - 2s 64ms/step - loss: 0.0028\n",
            "Epoch 40/100\n",
            "38/38 [==============================] - 3s 66ms/step - loss: 0.0028\n",
            "Epoch 41/100\n",
            "38/38 [==============================] - 2s 64ms/step - loss: 0.0024\n",
            "Epoch 42/100\n",
            "38/38 [==============================] - 3s 67ms/step - loss: 0.0027\n",
            "Epoch 43/100\n",
            "38/38 [==============================] - 2s 64ms/step - loss: 0.0033\n",
            "Epoch 44/100\n",
            "38/38 [==============================] - 2s 64ms/step - loss: 0.0031\n",
            "Epoch 45/100\n",
            "38/38 [==============================] - 3s 67ms/step - loss: 0.0026\n",
            "Epoch 46/100\n",
            "38/38 [==============================] - 3s 67ms/step - loss: 0.0030\n",
            "Epoch 47/100\n",
            "38/38 [==============================] - 2s 65ms/step - loss: 0.0030\n",
            "Epoch 48/100\n",
            "38/38 [==============================] - 3s 66ms/step - loss: 0.0027\n",
            "Epoch 49/100\n",
            "38/38 [==============================] - 2s 66ms/step - loss: 0.0027\n",
            "Epoch 50/100\n",
            "38/38 [==============================] - 3s 66ms/step - loss: 0.0023\n",
            "Epoch 51/100\n",
            "38/38 [==============================] - 2s 65ms/step - loss: 0.0024\n",
            "Epoch 52/100\n",
            "38/38 [==============================] - 2s 65ms/step - loss: 0.0024\n",
            "Epoch 53/100\n",
            "38/38 [==============================] - 3s 66ms/step - loss: 0.0026\n",
            "Epoch 54/100\n",
            "38/38 [==============================] - 3s 66ms/step - loss: 0.0024\n",
            "Epoch 55/100\n",
            "38/38 [==============================] - 2s 65ms/step - loss: 0.0021\n",
            "Epoch 56/100\n",
            "38/38 [==============================] - 2s 65ms/step - loss: 0.0022\n",
            "Epoch 57/100\n",
            "38/38 [==============================] - 3s 67ms/step - loss: 0.0023\n",
            "Epoch 58/100\n",
            "38/38 [==============================] - 2s 66ms/step - loss: 0.0023\n",
            "Epoch 59/100\n",
            "38/38 [==============================] - 3s 66ms/step - loss: 0.0024\n",
            "Epoch 60/100\n",
            "38/38 [==============================] - 2s 65ms/step - loss: 0.0022\n",
            "Epoch 61/100\n",
            "38/38 [==============================] - 3s 67ms/step - loss: 0.0022\n",
            "Epoch 62/100\n",
            "38/38 [==============================] - 3s 67ms/step - loss: 0.0023\n",
            "Epoch 63/100\n",
            "38/38 [==============================] - 3s 67ms/step - loss: 0.0021\n",
            "Epoch 64/100\n",
            "38/38 [==============================] - 3s 66ms/step - loss: 0.0020\n",
            "Epoch 65/100\n",
            "38/38 [==============================] - 3s 66ms/step - loss: 0.0019\n",
            "Epoch 66/100\n",
            "38/38 [==============================] - 3s 67ms/step - loss: 0.0021\n",
            "Epoch 67/100\n",
            "38/38 [==============================] - 3s 67ms/step - loss: 0.0019\n",
            "Epoch 68/100\n",
            "38/38 [==============================] - 3s 67ms/step - loss: 0.0021\n",
            "Epoch 69/100\n",
            "38/38 [==============================] - 3s 69ms/step - loss: 0.0018\n",
            "Epoch 70/100\n",
            "38/38 [==============================] - 3s 66ms/step - loss: 0.0022\n",
            "Epoch 71/100\n",
            "38/38 [==============================] - 3s 67ms/step - loss: 0.0021\n",
            "Epoch 72/100\n",
            "38/38 [==============================] - 3s 66ms/step - loss: 0.0020\n",
            "Epoch 73/100\n",
            "38/38 [==============================] - 3s 67ms/step - loss: 0.0018\n",
            "Epoch 74/100\n",
            "38/38 [==============================] - 3s 67ms/step - loss: 0.0020\n",
            "Epoch 75/100\n",
            "38/38 [==============================] - 3s 66ms/step - loss: 0.0018\n",
            "Epoch 76/100\n",
            "38/38 [==============================] - 3s 66ms/step - loss: 0.0019\n",
            "Epoch 77/100\n",
            "38/38 [==============================] - 3s 66ms/step - loss: 0.0020\n",
            "Epoch 78/100\n",
            "38/38 [==============================] - 3s 68ms/step - loss: 0.0019\n",
            "Epoch 79/100\n",
            "38/38 [==============================] - 3s 66ms/step - loss: 0.0017\n",
            "Epoch 80/100\n",
            "38/38 [==============================] - 3s 67ms/step - loss: 0.0017\n",
            "Epoch 81/100\n",
            "38/38 [==============================] - 3s 67ms/step - loss: 0.0020\n",
            "Epoch 82/100\n",
            "38/38 [==============================] - 3s 67ms/step - loss: 0.0019\n",
            "Epoch 83/100\n",
            "38/38 [==============================] - 3s 68ms/step - loss: 0.0018\n",
            "Epoch 84/100\n",
            "38/38 [==============================] - 3s 70ms/step - loss: 0.0017\n",
            "Epoch 85/100\n",
            "38/38 [==============================] - 3s 67ms/step - loss: 0.0017\n",
            "Epoch 86/100\n",
            "38/38 [==============================] - 3s 67ms/step - loss: 0.0018\n",
            "Epoch 87/100\n",
            "38/38 [==============================] - 3s 75ms/step - loss: 0.0017\n",
            "Epoch 88/100\n",
            "38/38 [==============================] - 3s 70ms/step - loss: 0.0016\n",
            "Epoch 89/100\n",
            "38/38 [==============================] - 3s 69ms/step - loss: 0.0015\n",
            "Epoch 90/100\n",
            "38/38 [==============================] - 3s 70ms/step - loss: 0.0018\n",
            "Epoch 91/100\n",
            "38/38 [==============================] - 3s 66ms/step - loss: 0.0016\n",
            "Epoch 92/100\n",
            "38/38 [==============================] - 3s 67ms/step - loss: 0.0017\n",
            "Epoch 93/100\n",
            "38/38 [==============================] - 3s 66ms/step - loss: 0.0019\n",
            "Epoch 94/100\n",
            "38/38 [==============================] - 3s 68ms/step - loss: 0.0015\n",
            "Epoch 95/100\n",
            "38/38 [==============================] - 2s 66ms/step - loss: 0.0018\n",
            "Epoch 96/100\n",
            "38/38 [==============================] - 3s 66ms/step - loss: 0.0016\n",
            "Epoch 97/100\n",
            "38/38 [==============================] - 3s 67ms/step - loss: 0.0015\n",
            "Epoch 98/100\n",
            "38/38 [==============================] - 3s 67ms/step - loss: 0.0015\n",
            "Epoch 99/100\n",
            "38/38 [==============================] - 3s 66ms/step - loss: 0.0015\n",
            "Epoch 100/100\n",
            "38/38 [==============================] - 3s 66ms/step - loss: 0.0014\n"
          ]
        },
        {
          "data": {
            "text/plain": [
              "<keras.callbacks.History at 0x198be2e6ac0>"
            ]
          },
          "execution_count": 34,
          "metadata": {},
          "output_type": "execute_result"
        }
      ],
      "source": [
        "regressor.fit(X_train, y_train, epochs = 100, batch_size = 32)"
      ]
    },
    {
      "cell_type": "markdown",
      "metadata": {
        "colab_type": "text",
        "id": "KwHuYDWfcPEZ"
      },
      "source": [
        "# Parte 3 - Ajustar las predicciones y visualizar los resultados"
      ]
    },
    {
      "cell_type": "markdown",
      "metadata": {
        "colab_type": "text",
        "id": "bu5TY8-ampml"
      },
      "source": [
        "# Obtener el valor de las acciones reales  de Enero de 2017"
      ]
    },
    {
      "cell_type": "code",
      "execution_count": 35,
      "metadata": {
        "colab": {},
        "colab_type": "code",
        "id": "Z7k7KG9SZOjL"
      },
      "outputs": [],
      "source": [
        "dataset_test = pd.read_csv('./Google_Stock_Price_Test.csv')\n",
        "real_stock_price = dataset_test.iloc[:, 1:2].values\n"
      ]
    },
    {
      "cell_type": "markdown",
      "metadata": {
        "colab_type": "text",
        "id": "1_6dWXuzmuHS"
      },
      "source": [
        "# Obtener la predicción de la acción con la RNR para Enero de 2017"
      ]
    },
    {
      "cell_type": "code",
      "execution_count": 74,
      "metadata": {
        "colab": {
          "base_uri": "https://localhost:8080/",
          "height": 295
        },
        "colab_type": "code",
        "id": "sbDeaSRQmveW",
        "outputId": "e896a13b-9a05-4260-da22-3d254c491655"
      },
      "outputs": [
        {
          "name": "stdout",
          "output_type": "stream",
          "text": [
            "1/1 [==============================] - 0s 52ms/step\n"
          ]
        },
        {
          "data": {
            "image/png": "[encoded data removed]",
            "text/plain": [
              "<Figure size 1600x960 with 1 Axes>"
            ]
          },
          "metadata": {
            "needs_background": "light"
          },
          "output_type": "display_data"
        }
      ],
      "source": [
        "# Ahora tenemos los 60 días anteriores a enero en el conjunto de entrenamiento, tendremos que concatenar ambos conjuntos.\n",
        "dataset_total = pd.concat((dataset_train.Open, dataset_test.Open), axis = 0)\n",
        "# Nos quedaremos desde el final del dataset total (len(dataset_total)), menos los 20 días de enero (longitud de dataset de test o len(dataset_test)), menos los 60 días para atrás que necesitamos\n",
        "# Necesitamos irnos hasta el final del dataset así que pondremos los dos puntos.\n",
        "inputs = dataset_total[len(dataset_total) - len(dataset_test) - 60:].values\n",
        "# Hacemos nuevamente el reshape para añadir la dimensión que necesita la red neuronal.\n",
        "inputs = inputs.reshape(-1,1)\n",
        "# Haremos el escalado sobre la concatenación ya que así todos se someterán al mismo factor de escala. Puede haber valores que superen el 1, los que sean más grandes que el máximo.\n",
        "inputs = sc.transform(inputs)\n",
        "\n",
        "# Construimos la misma estructura de datos que en el entrenamiento\n",
        "X_test = []\n",
        "# Código original\n",
        "# for i in range(60, 80):\n",
        "#     X_test.append(inputs[i-60:i, 0])\n",
        "for i in range(timesteps, inputs.shape[0]):\n",
        "    X_test.append(inputs[i-timesteps:i, 0])\n",
        "X_test = np.array(X_test)\n",
        "X_test = np.reshape(X_test, (X_test.shape[0], X_test.shape[1], 1))\n",
        "\n",
        "# Realizamos la predicción\n",
        "predicted_stock_price = regressor.predict(X_test)\n",
        "# Tenemos que desescalar los datos para poderlos interpretar con \"inverse_transform\"\n",
        "predicted_stock_price = sc.inverse_transform(predicted_stock_price)\n",
        "\n",
        "# Visualizar los Resultados\n",
        "plt.figure(figsize=(20, 12), dpi=80)\n",
        "plt.plot(real_stock_price, color = 'red', label = 'Precio Real de la Accion de Google')\n",
        "plt.plot(predicted_stock_price, color = 'blue', label = 'Precio Predicho de la Accion de Google')\n",
        "dates = dataset_test.Date.values\n",
        "plt.xticks(range(0, len(dates)), dates)\n",
        "plt.title(\"Prediccion con una RNR del valor de las acciones de Google\")\n",
        "plt.xlabel(\"Fecha\")\n",
        "plt.ylabel(\"Precio de la accion de Google\")\n",
        "plt.legend()\n",
        "plt.show()"
      ]
    },
    {
      "cell_type": "markdown",
      "metadata": {},
      "source": [
        "# Evaluar la RNR\n",
        "\n",
        "Hola estudiante,\n",
        "\n",
        "Como se ven en los vídeos de las clases prácticas, las RNR que hemos construido han sido de regresión. De hecho, estábamos lidiando con la regresión porque estábamos tratando de predecir un resultado continuo (el precio de las acciones de Google). Para la regresión, la forma de evaluar el rendimiento del modelo es con una métrica llamada RMSE (root mean square error o bien error cuadrático medio). Se calcula como la raíz de la media de las diferencias al cuadrado entre las predicciones y los valores reales como ya vimos en el curso de Machine Learning de la A a la Z.\n",
        "\n",
        "Sin embargo, para nuestro problema específico de predicción del precio de las acciones, evaluar el modelo con el RMSE no tiene mucho sentido, ya que estamos más interesados ​​en las direcciones tomadas por nuestras predicciones, en lugar de la cercanía de sus valores al precio real de las acciones. Queremos verificar si nuestras predicciones siguen las mismas direcciones que las del precio real de las acciones y realmente no nos importa si nuestras predicciones están cerca del precio real de las mismas. Las predicciones podrían ser cercanas, pero a menudo toman la dirección opuesta al precio real de las acciones, con lo cual perdemos dinero...\n",
        "\n",
        "Sin embargo, si estás interesado en el código que calcula el RMSE para nuestro problema de predicción del precio de las acciones, te lo dejo aquí a continuación:\n",
        "\n",
        "Luego considera dividir este RMSE por el rango de los valores del precio de las acciones de Google del mes de enero de 2017 (alrededor de 800) para obtener un error relativo, en lugar de un error absoluto. Es más relevante ya que, por ejemplo, si obtenemos un RMSE de 50, este error sería muy grande si los valores del precio de las acciones oscilaran alrededor de 100, pero sería muy pequeño si los valores del precio de las acciones oscilaran alrededor de 10000.\n",
        "\n",
        "¡Disfruta del aprendizaje profundo!"
      ]
    },
    {
      "cell_type": "code",
      "execution_count": 78,
      "metadata": {},
      "outputs": [
        {
          "name": "stdout",
          "output_type": "stream",
          "text": [
            "0.015635585074939895\n"
          ]
        }
      ],
      "source": [
        "import math\n",
        "from sklearn.metrics import mean_squared_error\n",
        "from statistics import mean\n",
        "\n",
        "rmse = math.sqrt(mean_squared_error(real_stock_price, predicted_stock_price))\n",
        "mean_stock_prices = mean(real_stock_price[0])\n",
        "print(rmse / mean_stock_prices)"
      ]
    },
    {
      "cell_type": "markdown",
      "metadata": {},
      "source": [
        "# Mejorar la RNR\n",
        "\n",
        "Hola estudiantes,\n",
        "\n",
        "Aquí hay diferentes maneras de mejorar el modelo de RNR:\n",
        "\n",
        "- Obteniendo más datos de entrenamiento: entrenamos a nuestro modelo con los últimos 5 años del precio de las acciones de Google, pero sería aún mejor entrenarlo con los datos de los últimos 10 años.\n",
        "\n",
        "- Aumento del número de timesteps: el modelo recordó los precios de las acciones de los 60 días financieros anteriores para predecir el precio de las acciones del día siguiente. Esto se debe a que elegimos un timestep de 60 pasos (3 meses). Puedes intentar aumentar el número de pasos de tiempo, eligiendo, por ejemplo, un timestep de 120 pasos (6 meses).\n",
        "\n",
        "- Agregar algunos otros indicadores: si tienes el instinto financiero de que el precio de las acciones de otras compañías podría estar correlacionado con el de Google, podrías agregar este otro precio de las acciones como un nuevo indicador en los datos de entrenamiento (como hacen los brokers de verdad).\n",
        "\n",
        "- Agregar más capas LSTM: hemos creamos una RNR con cuatro capas LSTM, pero podrías probar con aún más capas.\n",
        "\n",
        "- Agregando más neuronas en las capas LSTM: hemos visto que necesitábamos una gran cantidad de neuronas en las capas LSTM para responder mejor a la complejidad del problema y en nuestro caso hemos elegimos incluir 50 neuronas en cada una de nuestras 4 capas LSTM. Puedes probar una arquitectura con aún más neuronas en cada una de las 4 (o más) capas LSTM.\n",
        "\n",
        "¡Disfruta del aprendizaje profundo!"
      ]
    },
    {
      "cell_type": "markdown",
      "metadata": {},
      "source": [
        "# Ajustar la RNR\n",
        "\n",
        "Hola estudiante,\n",
        "\n",
        "Puedes hacer algunos ajustes de parámetros en el modelo de RNR que hemos implementado.\n",
        "\n",
        "Recuerda, esta vez estamos lidiando con un problema de regresión porque predecimos un resultado continuo (el precio de las acciones de Google).\n",
        "\n",
        "El ajuste de parámetros para la regresión es el mismo que el ajuste de parámetros para la clasificación que aprendimos juntos en la Parte 1 - Redes neuronales artificiales, la única diferencia es que tienes que reemplazar:\n",
        "\n",
        "```\n",
        "scoring = 'accuracy'\n",
        "```\n",
        "\n",
        "por:\n",
        "\n",
        "```\n",
        "scoring = 'neg_mean_squared_error'\n",
        "```\n",
        "\n",
        "(en el mean_squared_error cuanto más pequeña es la medida mejor...se utiliza como medida la negada para que cuanto mayor sea el valor sea mejor)\n",
        "en los parámetros de la clase GridSearchCV.\n",
        "\n",
        "¡Disfruta del aprendizaje profundo!"
      ]
    }
  ],
  "metadata": {
    "accelerator": "GPU",
    "colab": {
      "collapsed_sections": [],
      "name": "RNN.ipynb",
      "provenance": []
    },
    "kernelspec": {
      "display_name": "Python 3.9.12",
      "language": "python",
      "name": "python3"
    },
    "language_info": {
      "codemirror_mode": {
        "name": "ipython",
        "version": 3
      },
      "file_extension": ".py",
      "mimetype": "text/x-python",
      "name": "python",
      "nbconvert_exporter": "python",
      "pygments_lexer": "ipython3",
      "version": "3.9.12"
    },
    "vscode": {
      "interpreter": {
        "hash": "3cdeb3212b9cd6cb3adfc9aa28385dec25cb135a233d680843bd721e460bd758"
      }
    }
  },
  "nbformat": 4,
  "nbformat_minor": 0
}
